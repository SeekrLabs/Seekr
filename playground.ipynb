{
 "cells": [
  {
   "cell_type": "code",
   "execution_count": 142,
   "metadata": {},
   "outputs": [],
   "source": [
    "from profiles.models import *\n",
    "from postings.models import *\n",
    "from datetime import date\n",
    "from django.db.models.fields import CharField\n",
    "import re\n",
    "from collections import Counter\n",
    "from utils.glove import Glove"
   ]
  },
  {
   "cell_type": "code",
   "execution_count": 131,
   "metadata": {},
   "outputs": [],
   "source": [
    "def collect_char_fields(Model):\n",
    "    full_text = []\n",
    "    char_fields = []\n",
    "    for field in Model._meta.fields:\n",
    "        if type(field) == CharField:\n",
    "            char_fields.append(field.name)\n",
    "    print(\"{} Fields: {}\".format(Model, ' '.join(char_fields)))\n",
    "    for p in Model.objects.all():\n",
    "        for field in char_fields:\n",
    "            full_text.append(getattr(p, field))\n",
    "    return full_text\n",
    "\n",
    "def split_to_words(full_text):\n",
    "    out = []\n",
    "    for t in full_text:\n",
    "        out += re.split('\\W+', t)\n",
    "    return out\n",
    "\n",
    "def filter_non_alpha(full_text):\n",
    "    filtered_text = []\n",
    "    for t in full_text:\n",
    "        all_alpha = True\n",
    "        for c in t:\n",
    "            if not c.isalpha():\n",
    "                all_alpha = False\n",
    "                break\n",
    "\n",
    "        if all_alpha and t:\n",
    "            filtered_text.append(t)\n",
    "    return filtered_text\n",
    "\n",
    "def counter_filter(tokens, threshold):\n",
    "    out = []\n",
    "    c = Counter(tokens)\n",
    "    for i in c:\n",
    "        if c[i] >= threshold:\n",
    "            out.append(i)\n",
    "    return out\n",
    "    "
   ]
  },
  {
   "cell_type": "code",
   "execution_count": 132,
   "metadata": {},
   "outputs": [
    {
     "name": "stdout",
     "output_type": "stream",
     "text": [
      "<class 'profiles.models.Education'> Fields: school_name degree field_of_study description\n",
      "<class 'profiles.models.Experience'> Fields: company title description\n",
      "<class 'postings.models.Posting'> Fields: id title company city state country source description search_title\n"
     ]
    }
   ],
   "source": [
    "full_text = []\n",
    "full_text += collect_char_fields(Education)\n",
    "full_text += collect_char_fields(Experience)\n",
    "full_text += collect_char_fields(Posting)"
   ]
  },
  {
   "cell_type": "code",
   "execution_count": 133,
   "metadata": {},
   "outputs": [],
   "source": [
    "tokenized_text = split_to_words(full_text)"
   ]
  },
  {
   "cell_type": "code",
   "execution_count": 134,
   "metadata": {},
   "outputs": [],
   "source": [
    "filterd_tokens = filter_non_alpha(tokenized_text)"
   ]
  },
  {
   "cell_type": "code",
   "execution_count": 135,
   "metadata": {},
   "outputs": [],
   "source": [
    "lowered_filterd_tokens = [w.lower() for w in filterd_tokens]"
   ]
  },
  {
   "cell_type": "code",
   "execution_count": 139,
   "metadata": {},
   "outputs": [],
   "source": [
    "dictionary = counter_filter(lowered_filterd_tokens, 10)"
   ]
  },
  {
   "cell_type": "code",
   "execution_count": 149,
   "metadata": {},
   "outputs": [],
   "source": [
    "glove_file = 'data/glove.6B.50d.txt'\n",
    "out_file = 'data/filtered.glove.6B.50d.txt'\n",
    "\n",
    "f = open(glove_file,'r')\n",
    "w = open(out_file,'w')\n",
    "for line in f:\n",
    "    splitLine = line.split()\n",
    "    word = splitLine[0]\n",
    "    if word in dictionary:\n",
    "        w.write(line)\n",
    "    \n",
    "f.close()\n",
    "w.close()"
   ]
  }
 ],
 "metadata": {
  "kernelspec": {
   "display_name": "Django Shell-Plus",
   "language": "python",
   "name": "django_extensions"
  },
  "language_info": {
   "codemirror_mode": {
    "name": "ipython",
    "version": 3
   },
   "file_extension": ".py",
   "mimetype": "text/x-python",
   "name": "python",
   "nbconvert_exporter": "python",
   "pygments_lexer": "ipython3",
   "version": "3.7.6"
  }
 },
 "nbformat": 4,
 "nbformat_minor": 4
}
